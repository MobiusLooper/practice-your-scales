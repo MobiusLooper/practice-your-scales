{
 "cells": [
  {
   "cell_type": "code",
   "execution_count": 10,
   "metadata": {},
   "outputs": [],
   "source": [
    "import numpy as np\n",
    "import pandas as pd\n",
    "import json"
   ]
  },
  {
   "cell_type": "code",
   "execution_count": 2,
   "metadata": {},
   "outputs": [],
   "source": [
    "BASE_NOTES = [\n",
    "    'A',\n",
    "    'A#',\n",
    "    'Bb',\n",
    "    'B',\n",
    "    'C',\n",
    "    'C#',\n",
    "    'Db',\n",
    "    'D',\n",
    "    'D#',\n",
    "    'Eb',\n",
    "    'E',\n",
    "    'F',\n",
    "    'F#',\n",
    "    'Gb',\n",
    "    'G',\n",
    "    'G#',\n",
    "    'Ab'\n",
    "]\n",
    "\n",
    "MODES = [\n",
    "    'Ionian',\n",
    "    'Dorian',\n",
    "    'Phrygian',\n",
    "    'Lydian',\n",
    "    'Mixolydian',\n",
    "    'Aeolian',\n",
    "    'Locrian',\n",
    "    'Mixolydian',\n",
    "    'Major-minor',\n",
    "    'Lydian augmented',\n",
    "    'Lydian dominant',\n",
    "    'Half-diminished',\n",
    "    'Locrian #2',\n",
    "    'Altered',\n",
    "    'Diminished whole-tone',\n",
    "    'Whole tone',\n",
    "    'Half-whole diminished',\n",
    "    'Whole-half diminished'\n",
    "]"
   ]
  },
  {
   "cell_type": "code",
   "execution_count": 30,
   "metadata": {},
   "outputs": [],
   "source": [
    "base_note_list = np.random.choice(BASE_NOTES, size=10)\n",
    "mode_list = np.random.choice(MODES, size=10)"
   ]
  },
  {
   "cell_type": "code",
   "execution_count": 33,
   "metadata": {},
   "outputs": [],
   "source": [
    "scales_list = [' '.join([bn, m]) for bn, m in zip(base_note_list, mode_list)]\n",
    "scales_list\n",
    "import json"
   ]
  },
  {
   "cell_type": "code",
   "execution_count": 49,
   "metadata": {},
   "outputs": [
    {
     "data": {
      "text/plain": [
       "'\"[\\\\\"D Ionian\\\\\", \\\\\"B Ionian\\\\\", \\\\\"F Mixolydian\\\\\", \\\\\"Bb Half-whole diminished\\\\\", \\\\\"C Dorian\\\\\", \\\\\"D# Half-whole diminished\\\\\", \\\\\"G Mixolydian\\\\\", \\\\\"Eb Aeolian\\\\\", \\\\\"G# Locrian\\\\\", \\\\\"E Dorian\\\\\"]\"'"
      ]
     },
     "execution_count": 49,
     "metadata": {},
     "output_type": "execute_result"
    }
   ],
   "source": [
    "json.dumps(json.dumps(scales_list))"
   ]
  },
  {
   "cell_type": "code",
   "execution_count": 7,
   "metadata": {},
   "outputs": [],
   "source": [
    "def generate_scales():\n",
    "\tbase_note_list = np.random.choice(BASE_NOTES, size=10)\n",
    "\tmode_list = np.random.choice(MODES, size=10)\n",
    "\tscales_list = [' '.join([bn, m]) for bn, m in zip(base_note_list, mode_list)]\n",
    "\treturn json.dumps(json.dumps(scales_list))"
   ]
  },
  {
   "cell_type": "code",
   "execution_count": 15,
   "metadata": {},
   "outputs": [],
   "source": [
    "def generate_one_scale():\n",
    "\tbase_note = np.random.choice(BASE_NOTES)\n",
    "\tmode = np.random.choice(MODES)\n",
    "\tscale = ' '.join([base_note, mode])\n",
    "\treturn json.dumps(json.dumps(scale))"
   ]
  },
  {
   "cell_type": "code",
   "execution_count": 16,
   "metadata": {},
   "outputs": [
    {
     "data": {
      "text/plain": [
       "'\"\\\\\"A# Major-minor\\\\\"\"'"
      ]
     },
     "execution_count": 16,
     "metadata": {},
     "output_type": "execute_result"
    }
   ],
   "source": [
    "generate_one_scale()"
   ]
  },
  {
   "cell_type": "code",
   "execution_count": null,
   "metadata": {},
   "outputs": [],
   "source": []
  }
 ],
 "metadata": {
  "kernelspec": {
   "display_name": "Python 3",
   "language": "python",
   "name": "python3"
  },
  "language_info": {
   "codemirror_mode": {
    "name": "ipython",
    "version": 3
   },
   "file_extension": ".py",
   "mimetype": "text/x-python",
   "name": "python",
   "nbconvert_exporter": "python",
   "pygments_lexer": "ipython3",
   "version": "3.7.7"
  }
 },
 "nbformat": 4,
 "nbformat_minor": 4
}
